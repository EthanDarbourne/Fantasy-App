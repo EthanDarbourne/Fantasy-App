{
 "cells": [
  {
   "cell_type": "code",
   "execution_count": 4,
   "metadata": {},
   "outputs": [
    {
     "name": "stdout",
     "output_type": "stream",
     "text": [
      "<Response [200]>\n"
     ]
    }
   ],
   "source": [
    "import requests\n",
    "\n",
    "r = requests.get(\"https://fplform.com/fpl-player-data\")\n",
    "\n",
    "print(r)"
   ]
  },
  {
   "cell_type": "code",
   "execution_count": 5,
   "metadata": {},
   "outputs": [
    {
     "name": "stdout",
     "output_type": "stream",
     "text": [
      "626\n"
     ]
    }
   ],
   "source": [
    "from bs4 import BeautifulSoup\n",
    "\n",
    "# Parsing the HTML\n",
    "soup = BeautifulSoup(r.content, 'html.parser')\n",
    "\n",
    "table = soup.find(\"table\", id=\"playerdata\")\n",
    "\n",
    "tablebody = soup.find(\"tbody\")\n",
    "\n",
    "rows = table.find_all(\"tr\")\n",
    "\n",
    "print(len(rows))"
   ]
  },
  {
   "cell_type": "code",
   "execution_count": 19,
   "metadata": {},
   "outputs": [],
   "source": [
    "import csv\n",
    "\n",
    "filename = \"playerdata.csv\"\n",
    "\n",
    "# todo replace strange characters with their equivalents\n",
    "\n",
    "with open(filename, 'w', encoding='UTF8') as f:\n",
    "    w = csv.writer(f)\n",
    "    w.writerow(GetPlayerHeader())\n",
    "     \n",
    "    for i in range(1, len(rows) - 1):\n",
    "        player = Player(rows[i])\n",
    "        w.writerow(player.StringifyPlayer())\n",
    "        # player.PrintPlayer()\n"
   ]
  },
  {
   "cell_type": "code",
   "execution_count": 14,
   "metadata": {},
   "outputs": [],
   "source": [
    "def Read_Player(row):\n",
    "    columns = row.find_all('td')\n",
    "\n",
    "    "
   ]
  },
  {
   "cell_type": "code",
   "execution_count": 17,
   "metadata": {},
   "outputs": [],
   "source": [
    "import string\n",
    "\n",
    "\n",
    "class Player:\n",
    "    \n",
    "    # Goals: int\n",
    "    # Assists: int\n",
    "    # CleanSheets: int\n",
    "    # GoalsConceded: int\n",
    "    # Saves: int\n",
    "    # Position: string\n",
    "    # Team: string\n",
    "    # Name: string\n",
    "\n",
    "    \n",
    "    def __init__(self, playerRow): # constructor method\n",
    "        columns = playerRow.find_all('td')\n",
    "        # print(columns, len(columns))\n",
    "        if len(columns) < 28:\n",
    "            print(\"Issue\")\n",
    "            print(columns)\n",
    "            return\n",
    "        self.Name = columns[0].text\n",
    "        self.Team = columns[1].text\n",
    "        self.Position = columns[2].text\n",
    "        self.Goals = columns[24].text\n",
    "        self.Assists = columns[25].text\n",
    "        self.CleanSheets = columns[26].text\n",
    "        self.GoalsConceded = columns[27].text\n",
    "\n",
    "    def PrintPlayer(self):\n",
    "        print(','.join(self.StringifyPlayer()))\n",
    "\n",
    "    def StringifyPlayer(self):\n",
    "        return [self.Name, self.Team, self.Position, self.Goals, self.Assists, self.CleanSheets, self.GoalsConceded]\n",
    "    \n",
    "def GetPlayerHeader():\n",
    "    return [\"Name\",\"Team\",\"Position\",\"Goals\",\"Assists\",\"Clean Sheets\",\"Goals Conceded\"]   \n",
    "\n"
   ]
  },
  {
   "cell_type": "code",
   "execution_count": null,
   "metadata": {},
   "outputs": [],
   "source": []
  }
 ],
 "metadata": {
  "kernelspec": {
   "display_name": "Python 3.9.13 64-bit (microsoft store)",
   "language": "python",
   "name": "python3"
  },
  "language_info": {
   "codemirror_mode": {
    "name": "ipython",
    "version": 3
   },
   "file_extension": ".py",
   "mimetype": "text/x-python",
   "name": "python",
   "nbconvert_exporter": "python",
   "pygments_lexer": "ipython3",
   "version": "3.9.13"
  },
  "orig_nbformat": 4,
  "vscode": {
   "interpreter": {
    "hash": "8e284ee3255a07ad8bf76694974743c4c81cb57e7c969474d752d949b11d721e"
   }
  }
 },
 "nbformat": 4,
 "nbformat_minor": 2
}
