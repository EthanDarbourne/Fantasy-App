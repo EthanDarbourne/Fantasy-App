{
 "cells": [
  {
   "cell_type": "code",
   "execution_count": null,
   "metadata": {},
   "outputs": [],
   "source": [
    "\n",
    "# mse \n",
    "# min diff\n",
    "# max diff\n",
    "\n",
    "# per team\n",
    "\n",
    "# per position\n",
    "\n",
    "# per price bracket\n",
    "\n",
    "# per point bracket\n"
   ]
  },
  {
   "cell_type": "code",
   "execution_count": 3,
   "metadata": {},
   "outputs": [],
   "source": [
    "import pandas as pd\n",
    "\n",
    "def ReadPredictionFile(week):\n",
    "    return pd.read_csv(f\"Data/Predictions-Week{week}.csv\")\n",
    "\n",
    "\n",
    "def ReadGameweekFile(week):\n",
    "    return pd.read_csv(f\"Data/Gameweek{week}.csv\")\n",
    "\n",
    "week = 30\n",
    "predictionFile = ReadPredictionFile(30)\n",
    "gameweekFile = ReadGameweekFile(week)"
   ]
  },
  {
   "cell_type": "code",
   "execution_count": 4,
   "metadata": {},
   "outputs": [
    {
     "name": "stdout",
     "output_type": "stream",
     "text": [
      "      Id          Name  Prediction\n",
      "0      4  Fabio Vieira    1.380420\n",
      "1      5       Gabriel    2.721167\n",
      "2      6       Havertz    3.724020\n",
      "3      8       G.Jesus    1.590214\n",
      "4      9      Jorginho    1.916699\n",
      "..   ...           ...         ...\n",
      "388  567          Neto    3.104979\n",
      "389  569       Jose Sa    2.277054\n",
      "390  570       Sarabia    2.889460\n",
      "391  572      N.Semedo    2.041500\n",
      "392  590         Cunha    1.945649\n",
      "\n",
      "[393 rows x 3 columns]\n"
     ]
    }
   ],
   "source": [
    "print(file)"
   ]
  },
  {
   "cell_type": "code",
   "execution_count": null,
   "metadata": {},
   "outputs": [],
   "source": []
  }
 ],
 "metadata": {
  "kernelspec": {
   "display_name": "Python 3",
   "language": "python",
   "name": "python3"
  },
  "language_info": {
   "codemirror_mode": {
    "name": "ipython",
    "version": 3
   },
   "file_extension": ".py",
   "mimetype": "text/x-python",
   "name": "python",
   "nbconvert_exporter": "python",
   "pygments_lexer": "ipython3",
   "version": "3.9.13"
  }
 },
 "nbformat": 4,
 "nbformat_minor": 2
}
